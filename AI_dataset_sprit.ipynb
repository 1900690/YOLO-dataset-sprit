{
  "nbformat": 4,
  "nbformat_minor": 0,
  "metadata": {
    "colab": {
      "provenance": [],
      "include_colab_link": true
    },
    "kernelspec": {
      "name": "python3",
      "display_name": "Python 3"
    },
    "language_info": {
      "name": "python"
    }
  },
  "cells": [
    {
      "cell_type": "markdown",
      "metadata": {
        "id": "view-in-github",
        "colab_type": "text"
      },
      "source": [
        "<a href=\"https://colab.research.google.com/github/1900690/YOLO-dataset-sprit/blob/main/AI_dataset_sprit.ipynb\" target=\"_parent\"><img src=\"https://colab.research.google.com/assets/colab-badge.svg\" alt=\"Open In Colab\"/></a>"
      ]
    },
    {
      "cell_type": "code",
      "execution_count": null,
      "metadata": {
        "cellView": "form",
        "id": "WioRhRQDy6Eq"
      },
      "outputs": [],
      "source": [
        "#@markdown fastlabelでエクスポートしたzipファイルをアップロード\n",
        "\n",
        "#ライブラリをインポート(機能を使えるようにする)\n",
        "import shutil\n",
        "import os\n",
        "from google.colab import files\n",
        "import math\n",
        "\n",
        "\n",
        "#すでにフォルダがある場合は消す\n",
        "if os.path.exists(\"/content/datasets\"):\n",
        "  shutil.rmtree(\"/content/datasets\")\n",
        "\n",
        "#データをアップロード\n",
        "uploaded = files.upload()\n",
        "file_name = list(uploaded.keys())[0]\n",
        "#データを解凍\n",
        "shutil.unpack_archive('/content/'+file_name, '/content/')\n",
        "#zipを消す\n",
        "os.remove('/content/'+file_name)"
      ]
    },
    {
      "cell_type": "code",
      "source": [
        "#@markdown 画像を学習用と検証用とテスト用に分割\n",
        "\n",
        "#@markdown ※初めに全体をtrainとvalidに分割、分割したtrainからさらにtestを分割する\n",
        "#ライブラリをインポート\n",
        "import shutil\n",
        "import os\n",
        "from sklearn.model_selection import train_test_split\n",
        "import math\n",
        "\n",
        "#分割元のパスを作成\n",
        "originals='/content/original'\n",
        "annotations='/content/yolo/annotations'\n",
        "\n",
        "#分割先のパスを作成\n",
        "train_images = '/content/datasets/train/images'\n",
        "train_labels = '/content/datasets/train/labels'\n",
        "valid_images = '/content/datasets/valid/images'\n",
        "valid_labels = '/content/datasets/valid/labels'\n",
        "test_images = '/content/datasets/test/images'\n",
        "test_labels = '/content/datasets/test/labels'\n",
        "\n",
        "#分割先のファイルを作成\n",
        "if os.path.exists('/content/datasets/'):\n",
        "  shutil.rmtree('/content/datasets/')\n",
        "if not os.path.exists('/content/datasets/'):\n",
        "  os.makedirs(train_images)\n",
        "  os.makedirs(train_labels)\n",
        "  os.makedirs(valid_images)\n",
        "  os.makedirs(valid_labels)\n",
        "  os.makedirs(test_images)\n",
        "  os.makedirs(test_labels)\n",
        "\n",
        "\n",
        "#フォルダの中のファイルのリストを作成\n",
        "read_files_annotations = os.listdir(annotations)\n",
        "read_files_annotations.sort()\n",
        "read_files_originals= os.listdir(originals)\n",
        "read_files_originals.sort()\n",
        "\n",
        "\n",
        "valid分割割合=0.2#@param {type:\"slider\", min:0, max:1, step:0.1}\n",
        "test分割割合=0.1#@param {type:\"slider\", min:0, max:1, step:0.1}\n",
        "\n",
        "#分割割合に合わせてファイルのリストを分割\n",
        "annotations_train_test, annotations_valid, originals_train_test, originals_valid = train_test_split(read_files_annotations,read_files_originals,test_size=valid分割割合)\n",
        "annotations_train, annotations_test, originals_train, originals_test = train_test_split(annotations_train_test,originals_train_test,test_size=test分割割合)\n",
        "\n",
        "\n",
        "#画像とアノテーションを分ける\n",
        "for filename in annotations_train:\n",
        "  shutil.copy( annotations+\"/\"+filename,train_labels)\n",
        "for filename in annotations_valid:\n",
        "  shutil.copy( annotations+\"/\"+filename,valid_labels)\n",
        "for filename in annotations_test:\n",
        "  shutil.copy( annotations+\"/\"+filename,test_labels)\n",
        "\n",
        "for filename in originals_train:\n",
        "  shutil.copy( originals+\"/\"+filename,train_images)\n",
        "for filename in originals_valid:\n",
        "  shutil.copy( originals+\"/\"+filename,valid_images)\n",
        "for filename in originals_test:\n",
        "  shutil.copy( originals+\"/\"+filename,test_images)\n",
        "\n",
        "#最大公約数を計算\n",
        "greatest_common_divisor=math.gcd(sum(os.path.isfile(os.path.join(train_images, name)) for name in os.listdir(train_images)),sum(os.path.isfile(os.path.join(valid_images, name)) for name in os.listdir(valid_images)))\n",
        "\n",
        "#分割されたファイル数を表示\n",
        "print(\"train/imagesは\",sum(os.path.isfile(os.path.join(train_images, name)) for name in os.listdir(train_images)),\"枚\")\n",
        "print(\"train/labelsは\",sum(os.path.isfile(os.path.join(train_labels, name)) for name in os.listdir(train_labels)),\"枚\")\n",
        "print(\"valid/imagesは\",sum(os.path.isfile(os.path.join(valid_images, name)) for name in os.listdir(valid_images)),\"枚\")\n",
        "print(\"valid/labelsは\",sum(os.path.isfile(os.path.join(valid_labels, name)) for name in os.listdir(valid_labels)),\"枚\")\n",
        "print(\"test/imagesは\",sum(os.path.isfile(os.path.join(test_images, name)) for name in os.listdir(test_images)),\"枚\")\n",
        "print(\"test/labelsは\",sum(os.path.isfile(os.path.join(test_labels, name)) for name in os.listdir(test_labels)),\"枚\")\n",
        "#print(\"最大公約数は\",greatest_common_divisor,\"<-この数はbatchを決める際に必要\")"
      ],
      "metadata": {
        "cellView": "form",
        "id": "bD8Bj6MXzFRl"
      },
      "execution_count": null,
      "outputs": []
    },
    {
      "cell_type": "markdown",
      "source": [
        "#学習データに関する詳細ファイルを作成"
      ],
      "metadata": {
        "id": "Rg6oefk4zZqc"
      }
    },
    {
      "cell_type": "code",
      "source": [
        "#以下の★の部分を学習目的に応じて書き換える\n",
        "%%writefile /content/datasets/data.yaml\n",
        "\n",
        "#★検出する項目の数だけ-の後に項目名を記載する\n",
        "names:\n",
        "- tubu\n",
        "\n",
        "#★検出する項目の数を記載\n",
        "nc: 1\n",
        "\n",
        "#ここは触らない\n",
        "test: ../test/images\n",
        "train: ../train/images\n",
        "val: ../valid/images"
      ],
      "metadata": {
        "id": "qVjvdFbXzSUa"
      },
      "execution_count": null,
      "outputs": []
    },
    {
      "cell_type": "code",
      "source": [
        "#@markdown 作ったファイルをダウンロード\n",
        "import shutil\n",
        "import os\n",
        "from google.colab import files\n",
        "\n",
        "shutil.make_archive('/content/datasets', 'zip', '/content/datasets')\n",
        "\n",
        "#ダウンロード\n",
        "files.download(\"/content/datasets.zip\")\n"
      ],
      "metadata": {
        "cellView": "form",
        "id": "1KA3eOtezhzI"
      },
      "execution_count": null,
      "outputs": []
    }
  ]
}
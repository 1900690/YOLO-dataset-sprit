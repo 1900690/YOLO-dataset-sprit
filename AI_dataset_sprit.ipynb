{
  "nbformat": 4,
  "nbformat_minor": 0,
  "metadata": {
    "colab": {
      "provenance": [],
      "include_colab_link": true
    },
    "kernelspec": {
      "name": "python3",
      "display_name": "Python 3"
    },
    "language_info": {
      "name": "python"
    }
  },
  "cells": [
    {
      "cell_type": "markdown",
      "metadata": {
        "id": "view-in-github",
        "colab_type": "text"
      },
      "source": [
        "<a href=\"https://colab.research.google.com/github/1900690/YOLO-dataset-sprit/blob/main/AI_dataset_sprit.ipynb\" target=\"_parent\"><img src=\"https://colab.research.google.com/assets/colab-badge.svg\" alt=\"Open In Colab\"/></a>"
      ]
    },
    {
      "cell_type": "code",
      "execution_count": null,
      "metadata": {
        "cellView": "form",
        "id": "WioRhRQDy6Eq",
        "outputId": "0abe685c-0383-41a5-961b-d7163a891f80",
        "colab": {
          "base_uri": "https://localhost:8080/",
          "height": 78
        }
      },
      "outputs": [
        {
          "output_type": "display_data",
          "data": {
            "text/plain": [
              "<IPython.core.display.HTML object>"
            ],
            "text/html": [
              "\n",
              "     <input type=\"file\" id=\"files-8c79cd13-696f-40c3-983f-d65982b66760\" name=\"files[]\" multiple disabled\n",
              "        style=\"border:none\" />\n",
              "     <output id=\"result-8c79cd13-696f-40c3-983f-d65982b66760\">\n",
              "      Upload widget is only available when the cell has been executed in the\n",
              "      current browser session. Please rerun this cell to enable.\n",
              "      </output>\n",
              "      <script>// Copyright 2017 Google LLC\n",
              "//\n",
              "// Licensed under the Apache License, Version 2.0 (the \"License\");\n",
              "// you may not use this file except in compliance with the License.\n",
              "// You may obtain a copy of the License at\n",
              "//\n",
              "//      http://www.apache.org/licenses/LICENSE-2.0\n",
              "//\n",
              "// Unless required by applicable law or agreed to in writing, software\n",
              "// distributed under the License is distributed on an \"AS IS\" BASIS,\n",
              "// WITHOUT WARRANTIES OR CONDITIONS OF ANY KIND, either express or implied.\n",
              "// See the License for the specific language governing permissions and\n",
              "// limitations under the License.\n",
              "\n",
              "/**\n",
              " * @fileoverview Helpers for google.colab Python module.\n",
              " */\n",
              "(function(scope) {\n",
              "function span(text, styleAttributes = {}) {\n",
              "  const element = document.createElement('span');\n",
              "  element.textContent = text;\n",
              "  for (const key of Object.keys(styleAttributes)) {\n",
              "    element.style[key] = styleAttributes[key];\n",
              "  }\n",
              "  return element;\n",
              "}\n",
              "\n",
              "// Max number of bytes which will be uploaded at a time.\n",
              "const MAX_PAYLOAD_SIZE = 100 * 1024;\n",
              "\n",
              "function _uploadFiles(inputId, outputId) {\n",
              "  const steps = uploadFilesStep(inputId, outputId);\n",
              "  const outputElement = document.getElementById(outputId);\n",
              "  // Cache steps on the outputElement to make it available for the next call\n",
              "  // to uploadFilesContinue from Python.\n",
              "  outputElement.steps = steps;\n",
              "\n",
              "  return _uploadFilesContinue(outputId);\n",
              "}\n",
              "\n",
              "// This is roughly an async generator (not supported in the browser yet),\n",
              "// where there are multiple asynchronous steps and the Python side is going\n",
              "// to poll for completion of each step.\n",
              "// This uses a Promise to block the python side on completion of each step,\n",
              "// then passes the result of the previous step as the input to the next step.\n",
              "function _uploadFilesContinue(outputId) {\n",
              "  const outputElement = document.getElementById(outputId);\n",
              "  const steps = outputElement.steps;\n",
              "\n",
              "  const next = steps.next(outputElement.lastPromiseValue);\n",
              "  return Promise.resolve(next.value.promise).then((value) => {\n",
              "    // Cache the last promise value to make it available to the next\n",
              "    // step of the generator.\n",
              "    outputElement.lastPromiseValue = value;\n",
              "    return next.value.response;\n",
              "  });\n",
              "}\n",
              "\n",
              "/**\n",
              " * Generator function which is called between each async step of the upload\n",
              " * process.\n",
              " * @param {string} inputId Element ID of the input file picker element.\n",
              " * @param {string} outputId Element ID of the output display.\n",
              " * @return {!Iterable<!Object>} Iterable of next steps.\n",
              " */\n",
              "function* uploadFilesStep(inputId, outputId) {\n",
              "  const inputElement = document.getElementById(inputId);\n",
              "  inputElement.disabled = false;\n",
              "\n",
              "  const outputElement = document.getElementById(outputId);\n",
              "  outputElement.innerHTML = '';\n",
              "\n",
              "  const pickedPromise = new Promise((resolve) => {\n",
              "    inputElement.addEventListener('change', (e) => {\n",
              "      resolve(e.target.files);\n",
              "    });\n",
              "  });\n",
              "\n",
              "  const cancel = document.createElement('button');\n",
              "  inputElement.parentElement.appendChild(cancel);\n",
              "  cancel.textContent = 'Cancel upload';\n",
              "  const cancelPromise = new Promise((resolve) => {\n",
              "    cancel.onclick = () => {\n",
              "      resolve(null);\n",
              "    };\n",
              "  });\n",
              "\n",
              "  // Wait for the user to pick the files.\n",
              "  const files = yield {\n",
              "    promise: Promise.race([pickedPromise, cancelPromise]),\n",
              "    response: {\n",
              "      action: 'starting',\n",
              "    }\n",
              "  };\n",
              "\n",
              "  cancel.remove();\n",
              "\n",
              "  // Disable the input element since further picks are not allowed.\n",
              "  inputElement.disabled = true;\n",
              "\n",
              "  if (!files) {\n",
              "    return {\n",
              "      response: {\n",
              "        action: 'complete',\n",
              "      }\n",
              "    };\n",
              "  }\n",
              "\n",
              "  for (const file of files) {\n",
              "    const li = document.createElement('li');\n",
              "    li.append(span(file.name, {fontWeight: 'bold'}));\n",
              "    li.append(span(\n",
              "        `(${file.type || 'n/a'}) - ${file.size} bytes, ` +\n",
              "        `last modified: ${\n",
              "            file.lastModifiedDate ? file.lastModifiedDate.toLocaleDateString() :\n",
              "                                    'n/a'} - `));\n",
              "    const percent = span('0% done');\n",
              "    li.appendChild(percent);\n",
              "\n",
              "    outputElement.appendChild(li);\n",
              "\n",
              "    const fileDataPromise = new Promise((resolve) => {\n",
              "      const reader = new FileReader();\n",
              "      reader.onload = (e) => {\n",
              "        resolve(e.target.result);\n",
              "      };\n",
              "      reader.readAsArrayBuffer(file);\n",
              "    });\n",
              "    // Wait for the data to be ready.\n",
              "    let fileData = yield {\n",
              "      promise: fileDataPromise,\n",
              "      response: {\n",
              "        action: 'continue',\n",
              "      }\n",
              "    };\n",
              "\n",
              "    // Use a chunked sending to avoid message size limits. See b/62115660.\n",
              "    let position = 0;\n",
              "    do {\n",
              "      const length = Math.min(fileData.byteLength - position, MAX_PAYLOAD_SIZE);\n",
              "      const chunk = new Uint8Array(fileData, position, length);\n",
              "      position += length;\n",
              "\n",
              "      const base64 = btoa(String.fromCharCode.apply(null, chunk));\n",
              "      yield {\n",
              "        response: {\n",
              "          action: 'append',\n",
              "          file: file.name,\n",
              "          data: base64,\n",
              "        },\n",
              "      };\n",
              "\n",
              "      let percentDone = fileData.byteLength === 0 ?\n",
              "          100 :\n",
              "          Math.round((position / fileData.byteLength) * 100);\n",
              "      percent.textContent = `${percentDone}% done`;\n",
              "\n",
              "    } while (position < fileData.byteLength);\n",
              "  }\n",
              "\n",
              "  // All done.\n",
              "  yield {\n",
              "    response: {\n",
              "      action: 'complete',\n",
              "    }\n",
              "  };\n",
              "}\n",
              "\n",
              "scope.google = scope.google || {};\n",
              "scope.google.colab = scope.google.colab || {};\n",
              "scope.google.colab._files = {\n",
              "  _uploadFiles,\n",
              "  _uploadFilesContinue,\n",
              "};\n",
              "})(self);\n",
              "</script> "
            ]
          },
          "metadata": {}
        },
        {
          "output_type": "stream",
          "name": "stdout",
          "text": [
            "Saving fastlabeldata.zip to fastlabeldata.zip\n"
          ]
        }
      ],
      "source": [
        "#@markdown fastlabelでエクスポートしたzipファイルをアップロード\n",
        "\n",
        "#ライブラリをインポート(機能を使えるようにする)\n",
        "import shutil\n",
        "import os\n",
        "from google.colab import files\n",
        "import math\n",
        "\n",
        "\n",
        "#すでにフォルダがある場合は消す\n",
        "if os.path.exists(\"/content/datasets\"):\n",
        "  shutil.rmtree(\"/content/datasets\")\n",
        "\n",
        "#データをアップロード\n",
        "uploaded = files.upload()\n",
        "file_name = list(uploaded.keys())[0]\n",
        "#データを解凍\n",
        "shutil.unpack_archive('/content/'+file_name, '/content/')\n",
        "#zipを消す\n",
        "os.remove('/content/'+file_name)"
      ]
    },
    {
      "cell_type": "code",
      "source": [
        "#@markdown 画像を学習用と検証用とテスト用に分割\n",
        "\n",
        "#@markdown ※初めに全体をtrainとvalidに分割、分割したtrainからさらにtestを分割する\n",
        "#ライブラリをインポート\n",
        "import shutil\n",
        "import os\n",
        "from sklearn.model_selection import train_test_split\n",
        "import math\n",
        "\n",
        "#分割元のパスを作成\n",
        "originals='/content/original'\n",
        "annotations='/content/yolo/annotations'\n",
        "\n",
        "#分割先のパスを作成\n",
        "train_images = '/content/datasets/train/images'\n",
        "train_labels = '/content/datasets/train/labels'\n",
        "valid_images = '/content/datasets/valid/images'\n",
        "valid_labels = '/content/datasets/valid/labels'\n",
        "test_images = '/content/datasets/test/images'\n",
        "test_labels = '/content/datasets/test/labels'\n",
        "\n",
        "#分割先のファイルを作成\n",
        "if os.path.exists('/content/datasets/'):\n",
        "  shutil.rmtree('/content/datasets/')\n",
        "if not os.path.exists('/content/datasets/'):\n",
        "  os.makedirs(train_images)\n",
        "  os.makedirs(train_labels)\n",
        "  os.makedirs(valid_images)\n",
        "  os.makedirs(valid_labels)\n",
        "  os.makedirs(test_images)\n",
        "  os.makedirs(test_labels)\n",
        "\n",
        "\n",
        "#フォルダの中のファイルのリストを作成\n",
        "read_files_annotations = os.listdir(annotations)\n",
        "read_files_annotations.sort()\n",
        "read_files_originals= os.listdir(originals)\n",
        "read_files_originals.sort()\n",
        "\n",
        "\n",
        "valid分割割合=0.218#@param {type:\"slider\", min:0, max:1, step:0.001}\n",
        "test分割割合=0.016#@param {type:\"slider\", min:0, max:1, step:0.001}\n",
        "\n",
        "#分割割合に合わせてファイルのリストを分割\n",
        "annotations_train_test, annotations_valid, originals_train_test, originals_valid = train_test_split(read_files_annotations,read_files_originals,test_size=valid分割割合)\n",
        "annotations_train, annotations_test, originals_train, originals_test = train_test_split(annotations_train_test,originals_train_test,test_size=test分割割合)\n",
        "\n",
        "\n",
        "#画像とアノテーションを分ける\n",
        "for filename in annotations_train:\n",
        "  shutil.copy( annotations+\"/\"+filename,train_labels)\n",
        "for filename in annotations_valid:\n",
        "  shutil.copy( annotations+\"/\"+filename,valid_labels)\n",
        "for filename in annotations_test:\n",
        "  shutil.copy( annotations+\"/\"+filename,test_labels)\n",
        "\n",
        "for filename in originals_train:\n",
        "  shutil.copy( originals+\"/\"+filename,train_images)\n",
        "for filename in originals_valid:\n",
        "  shutil.copy( originals+\"/\"+filename,valid_images)\n",
        "for filename in originals_test:\n",
        "  shutil.copy( originals+\"/\"+filename,test_images)\n",
        "\n",
        "#最大公約数を計算\n",
        "greatest_common_divisor=math.gcd(sum(os.path.isfile(os.path.join(train_images, name)) for name in os.listdir(train_images)),sum(os.path.isfile(os.path.join(valid_images, name)) for name in os.listdir(valid_images)))\n",
        "\n",
        "#分割されたファイル数を表示\n",
        "print(\"train/imagesは\",sum(os.path.isfile(os.path.join(train_images, name)) for name in os.listdir(train_images)),\"枚\")\n",
        "print(\"train/labelsは\",sum(os.path.isfile(os.path.join(train_labels, name)) for name in os.listdir(train_labels)),\"枚\")\n",
        "print(\"valid/imagesは\",sum(os.path.isfile(os.path.join(valid_images, name)) for name in os.listdir(valid_images)),\"枚\")\n",
        "print(\"valid/labelsは\",sum(os.path.isfile(os.path.join(valid_labels, name)) for name in os.listdir(valid_labels)),\"枚\")\n",
        "print(\"test/imagesは\",sum(os.path.isfile(os.path.join(test_images, name)) for name in os.listdir(test_images)),\"枚\")\n",
        "print(\"test/labelsは\",sum(os.path.isfile(os.path.join(test_labels, name)) for name in os.listdir(test_labels)),\"枚\")\n",
        "print(\"最大公約数は\",greatest_common_divisor,\"<-この数はbatchを決める際に必要、2の倍数で８くらいがちょうどいい\")"
      ],
      "metadata": {
        "cellView": "form",
        "id": "bD8Bj6MXzFRl",
        "outputId": "c828b943-b2b9-4efe-b46e-e93b5b9d5778",
        "colab": {
          "base_uri": "https://localhost:8080/"
        }
      },
      "execution_count": 20,
      "outputs": [
        {
          "output_type": "stream",
          "name": "stdout",
          "text": [
            "train/imagesは 984 枚\n",
            "train/labelsは 984 枚\n",
            "valid/imagesは 280 枚\n",
            "valid/labelsは 280 枚\n",
            "test/imagesは 16 枚\n",
            "test/labelsは 16 枚\n",
            "最大公約数は 8 <-この数はbatchを決める際に必要\n"
          ]
        }
      ]
    },
    {
      "cell_type": "markdown",
      "source": [
        "#学習データに関する詳細ファイルを作成"
      ],
      "metadata": {
        "id": "Rg6oefk4zZqc"
      }
    },
    {
      "cell_type": "code",
      "source": [
        "#以下の★の部分を学習目的に応じて書き換える\n",
        "%%writefile /content/datasets/data.yaml\n",
        "\n",
        "#★検出する項目の数だけ-の後に項目名を記載する\n",
        "names:\n",
        "- OK\n",
        "- NG\n",
        "\n",
        "#★検出する項目の数を記載\n",
        "nc: 2\n",
        "\n",
        "#ここは触らない\n",
        "test: ../test/images\n",
        "train: ../train/images\n",
        "val: ../valid/images"
      ],
      "metadata": {
        "id": "qVjvdFbXzSUa",
        "outputId": "56e2e3bc-7edd-402a-d2a6-daeb89a7e14c",
        "colab": {
          "base_uri": "https://localhost:8080/"
        }
      },
      "execution_count": 21,
      "outputs": [
        {
          "output_type": "stream",
          "name": "stdout",
          "text": [
            "Writing /content/datasets/data.yaml\n"
          ]
        }
      ]
    },
    {
      "cell_type": "code",
      "source": [
        "#@markdown 作ったファイルをダウンロード\n",
        "import shutil\n",
        "import os\n",
        "from google.colab import files\n",
        "\n",
        "shutil.make_archive('/content/datasets', 'zip', '/content/datasets')\n",
        "\n",
        "#ダウンロード\n",
        "files.download(\"/content/datasets.zip\")\n"
      ],
      "metadata": {
        "cellView": "form",
        "id": "1KA3eOtezhzI",
        "outputId": "48a08017-75bb-4b2a-e590-a056ed8ab93a",
        "colab": {
          "base_uri": "https://localhost:8080/",
          "height": 36
        }
      },
      "execution_count": 22,
      "outputs": [
        {
          "output_type": "execute_result",
          "data": {
            "text/plain": [
              "'/content/datasets.zip'"
            ],
            "application/vnd.google.colaboratory.intrinsic+json": {
              "type": "string"
            }
          },
          "metadata": {},
          "execution_count": 22
        }
      ]
    }
  ]
}